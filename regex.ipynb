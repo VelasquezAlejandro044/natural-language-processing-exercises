{
 "cells": [
  {
   "cell_type": "code",
   "execution_count": 1,
   "id": "7e6934c1",
   "metadata": {},
   "outputs": [],
   "source": [
    "import re"
   ]
  },
  {
   "cell_type": "markdown",
   "id": "1effce5a",
   "metadata": {},
   "source": [
    "# Regex\n",
    "\n",
    "# 1 \n",
    "Write a function named `is_vowel`. It should accept a string as input and use a regular expression to determine if the passed string is a vowel. While not explicity mentioned in the lesson, you can treat the result of `re.search` as a boolean value that indicates whether or not the regular expression matches the given string."
   ]
  },
  {
   "cell_type": "code",
   "execution_count": 23,
   "id": "510aad24",
   "metadata": {},
   "outputs": [],
   "source": [
    "def is_vowel(string):\n",
    "    if re.findall(r\"^[aeiou]$\", string, re.IGNORECASE):\n",
    "            print('Cool, your strign is a voewl!')\n",
    "            print((re.findall(r\"^[aeiou]$\", string, re.IGNORECASE)))\n",
    "    else:\n",
    "        print(\"No, your string is no a vowel!\")"
   ]
  },
  {
   "cell_type": "code",
   "execution_count": 24,
   "id": "61cc06c1",
   "metadata": {},
   "outputs": [
    {
     "name": "stdout",
     "output_type": "stream",
     "text": [
      "Cool, your strign is a voewl!\n",
      "['e']\n"
     ]
    }
   ],
   "source": [
    "is_vowel('e')"
   ]
  },
  {
   "cell_type": "markdown",
   "id": "d1de747d",
   "metadata": {},
   "source": [
    "# 2\n",
    "Write a function named `is_valid_username` that accepts a string as input. A valid username starts with a lowercase letter, and only consists of lowercase letters, numbers, or the `_` character. It should also be no longer than 32 characters. The function should return either `True` or `False` depending on whether the passed string is a valid username.\n",
    "\n",
    "```\n",
    "is_valid_username('aaaaaaaaaaaaaaaaaaaaaaaaaaaaaaaaa')\n",
    "False\n",
    "\n",
    "is_valid_username('codeup')\n",
    "True\n",
    "\n",
    "is_valid_username('Codeup')\n",
    "False\n",
    "\n",
    "is_valid_username('codeup123')\n",
    "True\n",
    "\n",
    "is_valid_username('1codeup')\n",
    "False\n",
    "```"
   ]
  },
  {
   "cell_type": "code",
   "execution_count": 34,
   "id": "6c097d89",
   "metadata": {},
   "outputs": [],
   "source": [
    "def is_valid_username(string):\n",
    "    if re.search(r\"^[a-z][a-z_0-9]{1,31}$\", string):\n",
    "        print('True')\n",
    "    else:\n",
    "        print('False')"
   ]
  },
  {
   "cell_type": "code",
   "execution_count": 37,
   "id": "ed2fef73",
   "metadata": {},
   "outputs": [
    {
     "name": "stdout",
     "output_type": "stream",
     "text": [
      "False\n"
     ]
    }
   ],
   "source": [
    "is_valid_username('aaaaaaaaaaaaaaaaaaaaaaaaaaaaaaaaa')"
   ]
  },
  {
   "cell_type": "code",
   "execution_count": 38,
   "id": "6feb9f6a",
   "metadata": {},
   "outputs": [
    {
     "name": "stdout",
     "output_type": "stream",
     "text": [
      "True\n"
     ]
    }
   ],
   "source": [
    "is_valid_username('codeup')"
   ]
  },
  {
   "cell_type": "code",
   "execution_count": 39,
   "id": "0dc40292",
   "metadata": {},
   "outputs": [
    {
     "name": "stdout",
     "output_type": "stream",
     "text": [
      "False\n"
     ]
    }
   ],
   "source": [
    "is_valid_username('Codeup')"
   ]
  },
  {
   "cell_type": "code",
   "execution_count": 40,
   "id": "e051195b",
   "metadata": {},
   "outputs": [
    {
     "name": "stdout",
     "output_type": "stream",
     "text": [
      "True\n"
     ]
    }
   ],
   "source": [
    "is_valid_username('codeup123')"
   ]
  },
  {
   "cell_type": "code",
   "execution_count": 41,
   "id": "96030276",
   "metadata": {},
   "outputs": [
    {
     "name": "stdout",
     "output_type": "stream",
     "text": [
      "False\n"
     ]
    }
   ],
   "source": [
    "is_valid_username('1codeup')"
   ]
  },
  {
   "cell_type": "markdown",
   "id": "ac988ccf",
   "metadata": {},
   "source": [
    "# 3\n",
    "Write a regular expression to capture phone numbers. It should match all of the following:\n",
    "```\n",
    "(210) 867 5309\n",
    "+1 210.867.5309\n",
    "867-5309\n",
    "210-867-5309\n",
    "```\n"
   ]
  },
  {
   "cell_type": "code",
   "execution_count": 46,
   "id": "ead16863",
   "metadata": {},
   "outputs": [],
   "source": [
    "phone_numbers_to_check = ['(210) 867 5309', \n",
    "                        '+1 210.867.5309',\n",
    "                        '867-5309',\n",
    "                        '210-867-5309']"
   ]
  },
  {
   "cell_type": "code",
   "execution_count": 55,
   "id": "303b3558",
   "metadata": {},
   "outputs": [],
   "source": [
    "def phone_number(string):\n",
    "    regex = r'\\+?\\d?\\s?\\(?(\\d{3})?\\)?\\s?-?\\.?(\\d{3})\\s?-?\\.?\\.?(\\d{4})'\n",
    "    if re.search(regex, string) is None:\n",
    "        return False\n",
    "    else:\n",
    "        return True"
   ]
  },
  {
   "cell_type": "code",
   "execution_count": 57,
   "id": "041c4d8d",
   "metadata": {},
   "outputs": [
    {
     "name": "stdout",
     "output_type": "stream",
     "text": [
      "(210) 867 5309\n",
      "True\n",
      "-----------------\n",
      "+1 210.867.5309\n",
      "True\n",
      "-----------------\n",
      "867-5309\n",
      "True\n",
      "-----------------\n",
      "210-867-5309\n",
      "True\n",
      "-----------------\n"
     ]
    }
   ],
   "source": [
    "for num in phone_numbers_to_check:\n",
    "    print(num)\n",
    "    print(phone_number(num))\n",
    "    print('-----------------')"
   ]
  },
  {
   "cell_type": "code",
   "execution_count": null,
   "id": "54894cb3",
   "metadata": {},
   "outputs": [],
   "source": []
  },
  {
   "cell_type": "markdown",
   "id": "4849256f",
   "metadata": {},
   "source": [
    "# 4\n",
    "Use regular expressions to convert the dates below to the standardized year-month-day format.\n",
    "```\n",
    "02/04/19\n",
    "02/05/19\n",
    "02/06/19\n",
    "02/07/19\n",
    "02/08/19\n",
    "02/09/19\n",
    "02/10/19\n",
    "```"
   ]
  },
  {
   "cell_type": "code",
   "execution_count": null,
   "id": "8d66777d",
   "metadata": {},
   "outputs": [],
   "source": []
  },
  {
   "cell_type": "code",
   "execution_count": null,
   "id": "396cb8ad",
   "metadata": {},
   "outputs": [],
   "source": []
  },
  {
   "cell_type": "markdown",
   "id": "fe450af4",
   "metadata": {},
   "source": [
    "# 5\n",
    "Write a regex to extract the various parts of these logfile lines:\n",
    "```\n",
    "GET /api/v1/sales?page=86 [16/Apr/2019:193452+0000] HTTP/1.1 {200} 510348 \"python-requests/2.21.0\" 97.105.19.58\n",
    "POST /users_accounts/file-upload [16/Apr/2019:193452+0000] HTTP/1.1 {201} 42 \"User-Agent: Mozilla/5.0 (X11; Fedora; Fedora; Linux x86_64) AppleWebKit/537.36 (KHTML, like Gecko) Chrome/73.0.3683.86 Safari/537.36\" 97.105.19.58\n",
    "GET /api/v1/items?page=3 [16/Apr/2019:193453+0000] HTTP/1.1 {429} 3561 \"python-requests/2.21.0\" 97.105.19.58\n",
    "```\n"
   ]
  },
  {
   "cell_type": "code",
   "execution_count": null,
   "id": "c9d2b226",
   "metadata": {},
   "outputs": [],
   "source": []
  },
  {
   "cell_type": "code",
   "execution_count": null,
   "id": "016d43d5",
   "metadata": {},
   "outputs": [],
   "source": []
  },
  {
   "cell_type": "markdown",
   "id": "3c15ef74",
   "metadata": {},
   "source": [
    "# Bonus Exercise\n",
    "\n",
    "You can find a list of words on your mac at `/usr/share/dict/words`. Use this file to answer the following questions:\n",
    "\n",
    "\n",
    "- How many words have at least 3 vowels?\n",
    "- How many words have at least 3 vowels in a row?\n",
    "- How many words have at least 4 consonants in a row?\n",
    "- How many words start and end with the same letter?\n",
    "- How many words start and end with a vowel?\n",
    "- How many words contain the same letter 3 times in a row?\n",
    "- What other interesting patterns in words can you find?\n",
    "\n",
    "\n",
    "\n"
   ]
  },
  {
   "cell_type": "code",
   "execution_count": null,
   "id": "23754c43",
   "metadata": {},
   "outputs": [],
   "source": []
  }
 ],
 "metadata": {
  "kernelspec": {
   "display_name": "Python 3.8.8 64-bit ('base': conda)",
   "language": "python",
   "name": "python388jvsc74a57bd038cca0c38332a56087b24af0bc80247f4fced29cb4f7f437d91dc159adec9c4e"
  },
  "language_info": {
   "codemirror_mode": {
    "name": "ipython",
    "version": 3
   },
   "file_extension": ".py",
   "mimetype": "text/x-python",
   "name": "python",
   "nbconvert_exporter": "python",
   "pygments_lexer": "ipython3",
   "version": "3.8.8"
  }
 },
 "nbformat": 4,
 "nbformat_minor": 5
}
